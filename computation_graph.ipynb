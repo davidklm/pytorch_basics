{
 "cells": [
  {
   "cell_type": "code",
   "execution_count": 1,
   "metadata": {},
   "outputs": [],
   "source": [
    "import torch\n",
    "from graphviz import Digraph"
   ]
  },
  {
   "cell_type": "markdown",
   "metadata": {},
   "source": [
    "### Computation graph"
   ]
  },
  {
   "attachments": {
    "image.png": {
     "image/png": "[encoded data removed]"
    }
   },
   "cell_type": "markdown",
   "metadata": {},
   "source": [
    "$ f(x,y) = x^2 + 3y$\n",
    "\n",
    "$ \\frac{df}{dx}=2x$ and $ \\frac{df}{dy}=3$\n",
    "\n",
    "![image.png](attachment:image.png)"
   ]
  },
  {
   "cell_type": "code",
   "execution_count": 2,
   "metadata": {},
   "outputs": [
    {
     "name": "stdout",
     "output_type": "stream",
     "text": [
      "tensor(12.) tensor(3.)\n"
     ]
    }
   ],
   "source": [
    "x = torch.tensor(6).float();x.requires_grad_()\n",
    "y = torch.tensor(4).float();y.requires_grad_()\n",
    "\n",
    "t1 = torch.mul(x,x)\n",
    "t2 = torch.mul(3,y)\n",
    "r = torch.add(t1,t2)\n",
    "\n",
    "# compute gradient\n",
    "r.backward()\n",
    "\n",
    "print(x.grad, y.grad)\n",
    "assert x.grad == 2*x #df/dx\n",
    "assert y.grad == 3 #df/dy"
   ]
  },
  {
   "cell_type": "code",
   "execution_count": 3,
   "metadata": {},
   "outputs": [
    {
     "data": {
      "image/svg+xml": [
       "<?xml version=\"1.0\" encoding=\"UTF-8\" standalone=\"no\"?>\n",
       "<!DOCTYPE svg PUBLIC \"-//W3C//DTD SVG 1.1//EN\"\n",
       " \"http://www.w3.org/Graphics/SVG/1.1/DTD/svg11.dtd\">\n",
       "<!-- Generated by graphviz version 9.0.0 (20230911.1827)\n",
       " -->\n",
       "<!-- Pages: 1 -->\n",
       "<svg width=\"212pt\" height=\"188pt\"\n",
       " viewBox=\"0.00 0.00 212.15 188.00\" xmlns=\"http://www.w3.org/2000/svg\" xmlns:xlink=\"http://www.w3.org/1999/xlink\">\n",
       "<g id=\"graph0\" class=\"graph\" transform=\"scale(1 1) rotate(0) translate(4 184)\">\n",
       "<polygon fill=\"white\" stroke=\"none\" points=\"-4,4 -4,-184 208.15,-184 208.15,4 -4,4\"/>\n",
       "<!-- x -->\n",
       "<g id=\"node1\" class=\"node\">\n",
       "<title>x</title>\n",
       "<ellipse fill=\"none\" stroke=\"black\" cx=\"46.57\" cy=\"-162\" rx=\"27\" ry=\"18\"/>\n",
       "<text text-anchor=\"middle\" x=\"46.57\" y=\"-156.57\" font-family=\"Times New Roman,serif\" font-size=\"14.00\">x</text>\n",
       "</g>\n",
       "<!-- t1 -->\n",
       "<g id=\"node3\" class=\"node\">\n",
       "<title>t1</title>\n",
       "<ellipse fill=\"none\" stroke=\"black\" cx=\"46.57\" cy=\"-90\" rx=\"46.57\" ry=\"18\"/>\n",
       "<text text-anchor=\"middle\" x=\"46.57\" y=\"-84.58\" font-family=\"Times New Roman,serif\" font-size=\"14.00\">t1 = x * x</text>\n",
       "</g>\n",
       "<!-- x&#45;&gt;t1 -->\n",
       "<g id=\"edge1\" class=\"edge\">\n",
       "<title>x&#45;&gt;t1</title>\n",
       "<path fill=\"none\" stroke=\"black\" d=\"M46.57,-143.7C46.57,-136.41 46.57,-127.73 46.57,-119.54\"/>\n",
       "<polygon fill=\"black\" stroke=\"black\" points=\"50.07,-119.62 46.57,-109.62 43.07,-119.62 50.07,-119.62\"/>\n",
       "</g>\n",
       "<!-- y -->\n",
       "<g id=\"node2\" class=\"node\">\n",
       "<title>y</title>\n",
       "<ellipse fill=\"none\" stroke=\"black\" cx=\"157.57\" cy=\"-162\" rx=\"27\" ry=\"18\"/>\n",
       "<text text-anchor=\"middle\" x=\"157.57\" y=\"-156.57\" font-family=\"Times New Roman,serif\" font-size=\"14.00\">y</text>\n",
       "</g>\n",
       "<!-- t2 -->\n",
       "<g id=\"node4\" class=\"node\">\n",
       "<title>t2</title>\n",
       "<ellipse fill=\"none\" stroke=\"black\" cx=\"157.57\" cy=\"-90\" rx=\"46.57\" ry=\"18\"/>\n",
       "<text text-anchor=\"middle\" x=\"157.57\" y=\"-84.58\" font-family=\"Times New Roman,serif\" font-size=\"14.00\">t2 = 3 * y</text>\n",
       "</g>\n",
       "<!-- y&#45;&gt;t2 -->\n",
       "<g id=\"edge2\" class=\"edge\">\n",
       "<title>y&#45;&gt;t2</title>\n",
       "<path fill=\"none\" stroke=\"black\" d=\"M157.57,-143.7C157.57,-136.41 157.57,-127.73 157.57,-119.54\"/>\n",
       "<polygon fill=\"black\" stroke=\"black\" points=\"161.07,-119.62 157.57,-109.62 154.07,-119.62 161.07,-119.62\"/>\n",
       "</g>\n",
       "<!-- r -->\n",
       "<g id=\"node5\" class=\"node\">\n",
       "<title>r</title>\n",
       "<ellipse fill=\"none\" stroke=\"black\" cx=\"101.57\" cy=\"-18\" rx=\"48.57\" ry=\"18\"/>\n",
       "<text text-anchor=\"middle\" x=\"101.57\" y=\"-12.57\" font-family=\"Times New Roman,serif\" font-size=\"14.00\">r = t1 + t2</text>\n",
       "</g>\n",
       "<!-- t1&#45;&gt;r -->\n",
       "<g id=\"edge3\" class=\"edge\">\n",
       "<title>t1&#45;&gt;r</title>\n",
       "<path fill=\"none\" stroke=\"black\" d=\"M59.61,-72.41C66.18,-64.04 74.3,-53.71 81.64,-44.37\"/>\n",
       "<polygon fill=\"black\" stroke=\"black\" points=\"84.27,-46.69 87.7,-36.66 78.77,-42.36 84.27,-46.69\"/>\n",
       "</g>\n",
       "<!-- t2&#45;&gt;r -->\n",
       "<g id=\"edge4\" class=\"edge\">\n",
       "<title>t2&#45;&gt;r</title>\n",
       "<path fill=\"none\" stroke=\"black\" d=\"M144.3,-72.41C137.61,-64.04 129.34,-53.71 121.87,-44.37\"/>\n",
       "<polygon fill=\"black\" stroke=\"black\" points=\"124.67,-42.27 115.69,-36.65 119.21,-46.65 124.67,-42.27\"/>\n",
       "</g>\n",
       "</g>\n",
       "</svg>\n"
      ],
      "text/plain": [
       "<graphviz.graphs.Digraph at 0x18449222980>"
      ]
     },
     "execution_count": 3,
     "metadata": {},
     "output_type": "execute_result"
    }
   ],
   "source": [
    "# graphviz needs to be installed to generate the diagram\n",
    "dot = Digraph()\n",
    "\n",
    "dot.node('x', 'x')\n",
    "dot.node('y', 'y')\n",
    "dot.node('t1', 't1 = x * x')\n",
    "dot.node('t2', 't2 = 3 * y')\n",
    "dot.node('r', 'r = t1 + t2')\n",
    "dot.edges([('x', 't1'), ('y', 't2'), ('t1', 'r'), ('t2', 'r')])\n",
    "dot"
   ]
  },
  {
   "cell_type": "code",
   "execution_count": null,
   "metadata": {},
   "outputs": [],
   "source": []
  }
 ],
 "metadata": {
  "kernelspec": {
   "display_name": "mlenv",
   "language": "python",
   "name": "python3"
  },
  "language_info": {
   "codemirror_mode": {
    "name": "ipython",
    "version": 3
   },
   "file_extension": ".py",
   "mimetype": "text/x-python",
   "name": "python",
   "nbconvert_exporter": "python",
   "pygments_lexer": "ipython3",
   "version": "3.10.11"
  }
 },
 "nbformat": 4,
 "nbformat_minor": 2
}
